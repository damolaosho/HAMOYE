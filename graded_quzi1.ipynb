{
 "cells": [
  {
   "cell_type": "code",
   "execution_count": 1,
   "id": "5591b920-c55f-49d8-b57f-270a1407e6b8",
   "metadata": {
    "tags": []
   },
   "outputs": [],
   "source": [
    "import pandas as pd\n",
    "import numpy as np"
   ]
  },
  {
   "cell_type": "code",
   "execution_count": 2,
   "id": "1248ccc2-8723-42fa-87d4-4c3a899f2c7c",
   "metadata": {
    "tags": []
   },
   "outputs": [],
   "source": [
    "df = pd.read_csv('FoodBalanceSheets_E_Africa_NOFLAG.csv.xls', encoding= \"latin-1\")"
   ]
  },
  {
   "cell_type": "code",
   "execution_count": 3,
   "id": "65ca41c3-68e5-4bc1-8110-e1e4f45b50fa",
   "metadata": {
    "tags": []
   },
   "outputs": [
    {
     "data": {
      "text/plain": [
       "(60943, 12)"
      ]
     },
     "execution_count": 3,
     "metadata": {},
     "output_type": "execute_result"
    }
   ],
   "source": [
    "df.shape\n"
   ]
  },
  {
   "cell_type": "code",
   "execution_count": 4,
   "id": "3a020a4e-397b-4fd2-a69e-f2a0e5fe848c",
   "metadata": {
    "tags": []
   },
   "outputs": [
    {
     "data": {
      "text/html": [
       "<div>\n",
       "<style scoped>\n",
       "    .dataframe tbody tr th:only-of-type {\n",
       "        vertical-align: middle;\n",
       "    }\n",
       "\n",
       "    .dataframe tbody tr th {\n",
       "        vertical-align: top;\n",
       "    }\n",
       "\n",
       "    .dataframe thead th {\n",
       "        text-align: right;\n",
       "    }\n",
       "</style>\n",
       "<table border=\"1\" class=\"dataframe\">\n",
       "  <thead>\n",
       "    <tr style=\"text-align: right;\">\n",
       "      <th></th>\n",
       "      <th>Area Code</th>\n",
       "      <th>Area</th>\n",
       "      <th>Item Code</th>\n",
       "      <th>Item</th>\n",
       "      <th>Element Code</th>\n",
       "      <th>Element</th>\n",
       "      <th>Unit</th>\n",
       "      <th>Y2014</th>\n",
       "      <th>Y2015</th>\n",
       "      <th>Y2016</th>\n",
       "      <th>Y2017</th>\n",
       "      <th>Y2018</th>\n",
       "    </tr>\n",
       "  </thead>\n",
       "  <tbody>\n",
       "    <tr>\n",
       "      <th>0</th>\n",
       "      <td>4</td>\n",
       "      <td>Algeria</td>\n",
       "      <td>2501</td>\n",
       "      <td>Population</td>\n",
       "      <td>511</td>\n",
       "      <td>Total Population - Both sexes</td>\n",
       "      <td>1000 persons</td>\n",
       "      <td>38924.00</td>\n",
       "      <td>39728.00</td>\n",
       "      <td>40551.00</td>\n",
       "      <td>41389.00</td>\n",
       "      <td>42228.00</td>\n",
       "    </tr>\n",
       "    <tr>\n",
       "      <th>1</th>\n",
       "      <td>4</td>\n",
       "      <td>Algeria</td>\n",
       "      <td>2501</td>\n",
       "      <td>Population</td>\n",
       "      <td>5301</td>\n",
       "      <td>Domestic supply quantity</td>\n",
       "      <td>1000 tonnes</td>\n",
       "      <td>0.00</td>\n",
       "      <td>0.00</td>\n",
       "      <td>0.00</td>\n",
       "      <td>0.00</td>\n",
       "      <td>0.00</td>\n",
       "    </tr>\n",
       "    <tr>\n",
       "      <th>2</th>\n",
       "      <td>4</td>\n",
       "      <td>Algeria</td>\n",
       "      <td>2901</td>\n",
       "      <td>Grand Total</td>\n",
       "      <td>664</td>\n",
       "      <td>Food supply (kcal/capita/day)</td>\n",
       "      <td>kcal/capita/day</td>\n",
       "      <td>3377.00</td>\n",
       "      <td>3379.00</td>\n",
       "      <td>3372.00</td>\n",
       "      <td>3341.00</td>\n",
       "      <td>3322.00</td>\n",
       "    </tr>\n",
       "    <tr>\n",
       "      <th>3</th>\n",
       "      <td>4</td>\n",
       "      <td>Algeria</td>\n",
       "      <td>2901</td>\n",
       "      <td>Grand Total</td>\n",
       "      <td>674</td>\n",
       "      <td>Protein supply quantity (g/capita/day)</td>\n",
       "      <td>g/capita/day</td>\n",
       "      <td>94.90</td>\n",
       "      <td>94.35</td>\n",
       "      <td>94.72</td>\n",
       "      <td>92.82</td>\n",
       "      <td>91.83</td>\n",
       "    </tr>\n",
       "    <tr>\n",
       "      <th>4</th>\n",
       "      <td>4</td>\n",
       "      <td>Algeria</td>\n",
       "      <td>2901</td>\n",
       "      <td>Grand Total</td>\n",
       "      <td>684</td>\n",
       "      <td>Fat supply quantity (g/capita/day)</td>\n",
       "      <td>g/capita/day</td>\n",
       "      <td>80.06</td>\n",
       "      <td>79.36</td>\n",
       "      <td>77.40</td>\n",
       "      <td>80.19</td>\n",
       "      <td>77.28</td>\n",
       "    </tr>\n",
       "  </tbody>\n",
       "</table>\n",
       "</div>"
      ],
      "text/plain": [
       "   Area Code     Area  Item Code         Item  Element Code  \\\n",
       "0          4  Algeria       2501   Population           511   \n",
       "1          4  Algeria       2501   Population          5301   \n",
       "2          4  Algeria       2901  Grand Total           664   \n",
       "3          4  Algeria       2901  Grand Total           674   \n",
       "4          4  Algeria       2901  Grand Total           684   \n",
       "\n",
       "                                  Element             Unit     Y2014  \\\n",
       "0           Total Population - Both sexes     1000 persons  38924.00   \n",
       "1                Domestic supply quantity      1000 tonnes      0.00   \n",
       "2           Food supply (kcal/capita/day)  kcal/capita/day   3377.00   \n",
       "3  Protein supply quantity (g/capita/day)     g/capita/day     94.90   \n",
       "4      Fat supply quantity (g/capita/day)     g/capita/day     80.06   \n",
       "\n",
       "      Y2015     Y2016     Y2017     Y2018  \n",
       "0  39728.00  40551.00  41389.00  42228.00  \n",
       "1      0.00      0.00      0.00      0.00  \n",
       "2   3379.00   3372.00   3341.00   3322.00  \n",
       "3     94.35     94.72     92.82     91.83  \n",
       "4     79.36     77.40     80.19     77.28  "
      ]
     },
     "execution_count": 4,
     "metadata": {},
     "output_type": "execute_result"
    }
   ],
   "source": [
    "df.head()"
   ]
  },
  {
   "cell_type": "code",
   "execution_count": 5,
   "id": "6eb6cdd6-3706-4235-8d79-e82c7799ea1d",
   "metadata": {
    "tags": []
   },
   "outputs": [
    {
     "data": {
      "text/html": [
       "<div>\n",
       "<style scoped>\n",
       "    .dataframe tbody tr th:only-of-type {\n",
       "        vertical-align: middle;\n",
       "    }\n",
       "\n",
       "    .dataframe tbody tr th {\n",
       "        vertical-align: top;\n",
       "    }\n",
       "\n",
       "    .dataframe thead th {\n",
       "        text-align: right;\n",
       "    }\n",
       "</style>\n",
       "<table border=\"1\" class=\"dataframe\">\n",
       "  <thead>\n",
       "    <tr style=\"text-align: right;\">\n",
       "      <th></th>\n",
       "      <th>Area Code</th>\n",
       "      <th>Area</th>\n",
       "      <th>Item Code</th>\n",
       "      <th>Item</th>\n",
       "      <th>Element Code</th>\n",
       "      <th>Element</th>\n",
       "      <th>Unit</th>\n",
       "      <th>Y2014</th>\n",
       "      <th>Y2015</th>\n",
       "      <th>Y2016</th>\n",
       "      <th>Y2017</th>\n",
       "      <th>Y2018</th>\n",
       "    </tr>\n",
       "  </thead>\n",
       "  <tbody>\n",
       "    <tr>\n",
       "      <th>60938</th>\n",
       "      <td>181</td>\n",
       "      <td>Zimbabwe</td>\n",
       "      <td>2899</td>\n",
       "      <td>Miscellaneous</td>\n",
       "      <td>5142</td>\n",
       "      <td>Food</td>\n",
       "      <td>1000 tonnes</td>\n",
       "      <td>42.00</td>\n",
       "      <td>46.00</td>\n",
       "      <td>33.00</td>\n",
       "      <td>19.00</td>\n",
       "      <td>16.00</td>\n",
       "    </tr>\n",
       "    <tr>\n",
       "      <th>60939</th>\n",
       "      <td>181</td>\n",
       "      <td>Zimbabwe</td>\n",
       "      <td>2899</td>\n",
       "      <td>Miscellaneous</td>\n",
       "      <td>645</td>\n",
       "      <td>Food supply quantity (kg/capita/yr)</td>\n",
       "      <td>kg</td>\n",
       "      <td>3.06</td>\n",
       "      <td>3.33</td>\n",
       "      <td>2.35</td>\n",
       "      <td>1.33</td>\n",
       "      <td>1.08</td>\n",
       "    </tr>\n",
       "    <tr>\n",
       "      <th>60940</th>\n",
       "      <td>181</td>\n",
       "      <td>Zimbabwe</td>\n",
       "      <td>2899</td>\n",
       "      <td>Miscellaneous</td>\n",
       "      <td>664</td>\n",
       "      <td>Food supply (kcal/capita/day)</td>\n",
       "      <td>kcal/capita/day</td>\n",
       "      <td>3.00</td>\n",
       "      <td>4.00</td>\n",
       "      <td>3.00</td>\n",
       "      <td>1.00</td>\n",
       "      <td>1.00</td>\n",
       "    </tr>\n",
       "    <tr>\n",
       "      <th>60941</th>\n",
       "      <td>181</td>\n",
       "      <td>Zimbabwe</td>\n",
       "      <td>2899</td>\n",
       "      <td>Miscellaneous</td>\n",
       "      <td>674</td>\n",
       "      <td>Protein supply quantity (g/capita/day)</td>\n",
       "      <td>g/capita/day</td>\n",
       "      <td>0.10</td>\n",
       "      <td>0.11</td>\n",
       "      <td>0.08</td>\n",
       "      <td>0.04</td>\n",
       "      <td>0.04</td>\n",
       "    </tr>\n",
       "    <tr>\n",
       "      <th>60942</th>\n",
       "      <td>181</td>\n",
       "      <td>Zimbabwe</td>\n",
       "      <td>2899</td>\n",
       "      <td>Miscellaneous</td>\n",
       "      <td>684</td>\n",
       "      <td>Fat supply quantity (g/capita/day)</td>\n",
       "      <td>g/capita/day</td>\n",
       "      <td>0.04</td>\n",
       "      <td>0.05</td>\n",
       "      <td>0.03</td>\n",
       "      <td>0.02</td>\n",
       "      <td>0.01</td>\n",
       "    </tr>\n",
       "  </tbody>\n",
       "</table>\n",
       "</div>"
      ],
      "text/plain": [
       "       Area Code      Area  Item Code           Item  Element Code  \\\n",
       "60938        181  Zimbabwe       2899  Miscellaneous          5142   \n",
       "60939        181  Zimbabwe       2899  Miscellaneous           645   \n",
       "60940        181  Zimbabwe       2899  Miscellaneous           664   \n",
       "60941        181  Zimbabwe       2899  Miscellaneous           674   \n",
       "60942        181  Zimbabwe       2899  Miscellaneous           684   \n",
       "\n",
       "                                      Element             Unit  Y2014  Y2015  \\\n",
       "60938                                    Food      1000 tonnes  42.00  46.00   \n",
       "60939     Food supply quantity (kg/capita/yr)               kg   3.06   3.33   \n",
       "60940           Food supply (kcal/capita/day)  kcal/capita/day   3.00   4.00   \n",
       "60941  Protein supply quantity (g/capita/day)     g/capita/day   0.10   0.11   \n",
       "60942      Fat supply quantity (g/capita/day)     g/capita/day   0.04   0.05   \n",
       "\n",
       "       Y2016  Y2017  Y2018  \n",
       "60938  33.00  19.00  16.00  \n",
       "60939   2.35   1.33   1.08  \n",
       "60940   3.00   1.00   1.00  \n",
       "60941   0.08   0.04   0.04  \n",
       "60942   0.03   0.02   0.01  "
      ]
     },
     "execution_count": 5,
     "metadata": {},
     "output_type": "execute_result"
    }
   ],
   "source": [
    "df.tail()"
   ]
  },
  {
   "cell_type": "code",
   "execution_count": 6,
   "id": "ddadfe2a-8629-40b0-8e08-1abaf811a245",
   "metadata": {
    "tags": []
   },
   "outputs": [
    {
     "name": "stdout",
     "output_type": "stream",
     "text": [
      "<class 'pandas.core.frame.DataFrame'>\n",
      "RangeIndex: 60943 entries, 0 to 60942\n",
      "Data columns (total 12 columns):\n",
      " #   Column        Non-Null Count  Dtype  \n",
      "---  ------        --------------  -----  \n",
      " 0   Area Code     60943 non-null  int64  \n",
      " 1   Area          60943 non-null  object \n",
      " 2   Item Code     60943 non-null  int64  \n",
      " 3   Item          60943 non-null  object \n",
      " 4   Element Code  60943 non-null  int64  \n",
      " 5   Element       60943 non-null  object \n",
      " 6   Unit          60943 non-null  object \n",
      " 7   Y2014         59354 non-null  float64\n",
      " 8   Y2015         59395 non-null  float64\n",
      " 9   Y2016         59408 non-null  float64\n",
      " 10  Y2017         59437 non-null  float64\n",
      " 11  Y2018         59507 non-null  float64\n",
      "dtypes: float64(5), int64(3), object(4)\n",
      "memory usage: 5.6+ MB\n"
     ]
    }
   ],
   "source": [
    "df.info()"
   ]
  },
  {
   "cell_type": "code",
   "execution_count": 7,
   "id": "e7be511a-67fc-455b-a326-6e3a68920845",
   "metadata": {
    "tags": []
   },
   "outputs": [
    {
     "data": {
      "text/html": [
       "<div>\n",
       "<style scoped>\n",
       "    .dataframe tbody tr th:only-of-type {\n",
       "        vertical-align: middle;\n",
       "    }\n",
       "\n",
       "    .dataframe tbody tr th {\n",
       "        vertical-align: top;\n",
       "    }\n",
       "\n",
       "    .dataframe thead th {\n",
       "        text-align: right;\n",
       "    }\n",
       "</style>\n",
       "<table border=\"1\" class=\"dataframe\">\n",
       "  <thead>\n",
       "    <tr style=\"text-align: right;\">\n",
       "      <th></th>\n",
       "      <th>Area Code</th>\n",
       "      <th>Item Code</th>\n",
       "      <th>Element Code</th>\n",
       "      <th>Y2014</th>\n",
       "      <th>Y2015</th>\n",
       "      <th>Y2016</th>\n",
       "      <th>Y2017</th>\n",
       "      <th>Y2018</th>\n",
       "    </tr>\n",
       "  </thead>\n",
       "  <tbody>\n",
       "    <tr>\n",
       "      <th>count</th>\n",
       "      <td>60943.000000</td>\n",
       "      <td>60943.000000</td>\n",
       "      <td>60943.000000</td>\n",
       "      <td>59354.000000</td>\n",
       "      <td>59395.000000</td>\n",
       "      <td>59408.000000</td>\n",
       "      <td>59437.000000</td>\n",
       "      <td>59507.000000</td>\n",
       "    </tr>\n",
       "    <tr>\n",
       "      <th>mean</th>\n",
       "      <td>134.265576</td>\n",
       "      <td>2687.176706</td>\n",
       "      <td>3814.856456</td>\n",
       "      <td>134.196282</td>\n",
       "      <td>135.235966</td>\n",
       "      <td>136.555222</td>\n",
       "      <td>140.917765</td>\n",
       "      <td>143.758381</td>\n",
       "    </tr>\n",
       "    <tr>\n",
       "      <th>std</th>\n",
       "      <td>72.605709</td>\n",
       "      <td>146.055739</td>\n",
       "      <td>2212.007033</td>\n",
       "      <td>1567.663696</td>\n",
       "      <td>1603.403984</td>\n",
       "      <td>1640.007194</td>\n",
       "      <td>1671.862359</td>\n",
       "      <td>1710.782658</td>\n",
       "    </tr>\n",
       "    <tr>\n",
       "      <th>min</th>\n",
       "      <td>4.000000</td>\n",
       "      <td>2501.000000</td>\n",
       "      <td>511.000000</td>\n",
       "      <td>-1796.000000</td>\n",
       "      <td>-3161.000000</td>\n",
       "      <td>-3225.000000</td>\n",
       "      <td>-1582.000000</td>\n",
       "      <td>-3396.000000</td>\n",
       "    </tr>\n",
       "    <tr>\n",
       "      <th>25%</th>\n",
       "      <td>74.000000</td>\n",
       "      <td>2562.000000</td>\n",
       "      <td>684.000000</td>\n",
       "      <td>0.000000</td>\n",
       "      <td>0.000000</td>\n",
       "      <td>0.000000</td>\n",
       "      <td>0.000000</td>\n",
       "      <td>0.000000</td>\n",
       "    </tr>\n",
       "    <tr>\n",
       "      <th>50%</th>\n",
       "      <td>136.000000</td>\n",
       "      <td>2630.000000</td>\n",
       "      <td>5142.000000</td>\n",
       "      <td>0.090000</td>\n",
       "      <td>0.080000</td>\n",
       "      <td>0.080000</td>\n",
       "      <td>0.100000</td>\n",
       "      <td>0.070000</td>\n",
       "    </tr>\n",
       "    <tr>\n",
       "      <th>75%</th>\n",
       "      <td>195.000000</td>\n",
       "      <td>2775.000000</td>\n",
       "      <td>5511.000000</td>\n",
       "      <td>8.340000</td>\n",
       "      <td>8.460000</td>\n",
       "      <td>8.430000</td>\n",
       "      <td>9.000000</td>\n",
       "      <td>9.000000</td>\n",
       "    </tr>\n",
       "    <tr>\n",
       "      <th>max</th>\n",
       "      <td>276.000000</td>\n",
       "      <td>2961.000000</td>\n",
       "      <td>5911.000000</td>\n",
       "      <td>176405.000000</td>\n",
       "      <td>181137.000000</td>\n",
       "      <td>185960.000000</td>\n",
       "      <td>190873.000000</td>\n",
       "      <td>195875.000000</td>\n",
       "    </tr>\n",
       "  </tbody>\n",
       "</table>\n",
       "</div>"
      ],
      "text/plain": [
       "          Area Code     Item Code  Element Code          Y2014          Y2015  \\\n",
       "count  60943.000000  60943.000000  60943.000000   59354.000000   59395.000000   \n",
       "mean     134.265576   2687.176706   3814.856456     134.196282     135.235966   \n",
       "std       72.605709    146.055739   2212.007033    1567.663696    1603.403984   \n",
       "min        4.000000   2501.000000    511.000000   -1796.000000   -3161.000000   \n",
       "25%       74.000000   2562.000000    684.000000       0.000000       0.000000   \n",
       "50%      136.000000   2630.000000   5142.000000       0.090000       0.080000   \n",
       "75%      195.000000   2775.000000   5511.000000       8.340000       8.460000   \n",
       "max      276.000000   2961.000000   5911.000000  176405.000000  181137.000000   \n",
       "\n",
       "               Y2016          Y2017          Y2018  \n",
       "count   59408.000000   59437.000000   59507.000000  \n",
       "mean      136.555222     140.917765     143.758381  \n",
       "std      1640.007194    1671.862359    1710.782658  \n",
       "min     -3225.000000   -1582.000000   -3396.000000  \n",
       "25%         0.000000       0.000000       0.000000  \n",
       "50%         0.080000       0.100000       0.070000  \n",
       "75%         8.430000       9.000000       9.000000  \n",
       "max    185960.000000  190873.000000  195875.000000  "
      ]
     },
     "execution_count": 7,
     "metadata": {},
     "output_type": "execute_result"
    }
   ],
   "source": [
    "df.describe()\n"
   ]
  },
  {
   "cell_type": "code",
   "execution_count": 8,
   "id": "14e8caac-64d8-4c48-9f47-69a58cd3e122",
   "metadata": {
    "tags": []
   },
   "outputs": [
    {
     "data": {
      "text/plain": [
       "Area Code          0\n",
       "Area               0\n",
       "Item Code          0\n",
       "Item               0\n",
       "Element Code       0\n",
       "Element            0\n",
       "Unit               0\n",
       "Y2014           1589\n",
       "Y2015           1548\n",
       "Y2016           1535\n",
       "Y2017           1506\n",
       "Y2018           1436\n",
       "dtype: int64"
      ]
     },
     "execution_count": 8,
     "metadata": {},
     "output_type": "execute_result"
    }
   ],
   "source": [
    "df.isnull().sum()"
   ]
  },
  {
   "cell_type": "markdown",
   "id": "26f8fadd-098a-49bb-80da-af70a02c909d",
   "metadata": {},
   "source": [
    "### QUESTION ONE"
   ]
  },
  {
   "cell_type": "code",
   "execution_count": 9,
   "id": "977ee3f4-90d9-4ab4-a201-456a423571c4",
   "metadata": {
    "tags": []
   },
   "outputs": [
    {
     "data": {
      "text/plain": [
       "1589"
      ]
     },
     "execution_count": 9,
     "metadata": {},
     "output_type": "execute_result"
    }
   ],
   "source": [
    "missing = df['Y2014'].isnull().sum()\n",
    "missing"
   ]
  },
  {
   "cell_type": "code",
   "execution_count": 10,
   "id": "ca131ce8-8827-4fbc-8e3f-1c7dac29c9ab",
   "metadata": {
    "tags": []
   },
   "outputs": [
    {
     "name": "stdout",
     "output_type": "stream",
     "text": [
      "the percentage of missing values is:  2.607\n"
     ]
    }
   ],
   "source": [
    "#to find the percentage of missing data\n",
    "y2014_total= len(df)\n",
    "missing_value_percentage = round((missing/y2014_total) * 100,3)\n",
    "print(\"the percentage of missing values is: \", missing_value_percentage)"
   ]
  },
  {
   "cell_type": "markdown",
   "id": "8edf1339-4437-4ee4-bdb0-d65dc41ad193",
   "metadata": {},
   "source": [
    "### QUESTION TWO"
   ]
  },
  {
   "cell_type": "code",
   "execution_count": 11,
   "id": "9c5a59dc-73e1-4f5b-8735-1306de429b2c",
   "metadata": {
    "tags": []
   },
   "outputs": [
    {
     "name": "stdout",
     "output_type": "stream",
     "text": [
      "Area with the 7th lowest sum in Y2017: Guinea-Bissau\n"
     ]
    }
   ],
   "source": [
    "# Select 'Y2017' and 'Area' columns\n",
    "selected_columns = df[['Y2017', 'Area']]\n",
    "\n",
    "# Group by 'Area' and calculate the sum for 'Y2017'\n",
    "sum_2017_by_area = selected_columns.groupby('Area')['Y2017'].sum()\n",
    "\n",
    "# Sort the sums and find the 7th lowest sum\n",
    "seventh_lowest_sum_area = sum_2017_by_area.nsmallest(7).index[-1]\n",
    "\n",
    "print('Area with the 7th lowest sum in Y2017:', seventh_lowest_sum_area)\n"
   ]
  },
  {
   "cell_type": "code",
   "execution_count": 12,
   "id": "240d3793-3465-4a26-b6dc-b683441edd64",
   "metadata": {
    "tags": []
   },
   "outputs": [
    {
     "name": "stdout",
     "output_type": "stream",
     "text": [
      "Area with the highest sum in Y2017: Nigeria\n"
     ]
    }
   ],
   "source": [
    "# Select 'Y2017' and 'Area' columns\n",
    "selected_columns = df[['Y2017', 'Area']]\n",
    "\n",
    "# Group by 'Area' and calculate the sum for 'Y2017'\n",
    "sum_2017_by_area = selected_columns.groupby('Area')['Y2017'].sum()\n",
    "\n",
    "# Find the area with the highest sum for 'Y2017'\n",
    "highest_sum_area = sum_2017_by_area.nlargest(1).index[0]\n",
    "\n",
    "print('Area with the highest sum in Y2017:', highest_sum_area)"
   ]
  },
  {
   "cell_type": "markdown",
   "id": "7a470761-9907-4775-b9c3-f47d0a9bb5b3",
   "metadata": {},
   "source": [
    "## q5"
   ]
  },
  {
   "cell_type": "code",
   "execution_count": 13,
   "id": "ff9fa188-0b2b-4587-b41c-d926a9a2aee1",
   "metadata": {
    "tags": []
   },
   "outputs": [
    {
     "data": {
      "text/plain": [
       "Element\n",
       "Domestic supply quantity                  2088198.10\n",
       "Export Quantity                            182338.80\n",
       "Fat supply quantity (g/capita/day)          10253.84\n",
       "Feed                                       223705.68\n",
       "Food                                      1258888.28\n",
       "Food supply (kcal/capita/day)              454681.00\n",
       "Food supply quantity (kg/capita/yr)         48690.04\n",
       "Import Quantity                            294559.09\n",
       "Losses                                     160614.00\n",
       "Other uses (non-food)                       91645.97\n",
       "Processing                                 292836.00\n",
       "Production                                2030056.89\n",
       "Protein supply quantity (g/capita/day)      11842.45\n",
       "Residuals                                   35500.00\n",
       "Seed                                        24870.14\n",
       "Stock Variation                             54316.91\n",
       "Total Population - Both sexes             1112641.00\n",
       "Tourist consumption                            91.00\n",
       "Name: Y2017, dtype: float64"
      ]
     },
     "execution_count": 13,
     "metadata": {},
     "output_type": "execute_result"
    }
   ],
   "source": [
    "sumof2017 = df.groupby('Element')['Y2017'].sum()\n",
    "sumof2017"
   ]
  },
  {
   "cell_type": "code",
   "execution_count": 14,
   "id": "4511a1a5-a138-4a91-bb3d-2f742d259a65",
   "metadata": {
    "tags": []
   },
   "outputs": [
    {
     "name": "stdout",
     "output_type": "stream",
     "text": [
      "                                        Area Code  Item Code  Element Code  \\\n",
      "Element                                                                      \n",
      "Domestic supply quantity                    11610     243636        477090   \n",
      "Export Quantity                              5160     110203        236440   \n",
      "Fat supply quantity (g/capita/day)           8901     188007         47196   \n",
      "Feed                                         1677      35374         71773   \n",
      "Food                                        10449     220087        416502   \n",
      "Food supply (kcal/capita/day)                9546     201284         49136   \n",
      "Food supply quantity (kg/capita/yr)         11223     235928         56115   \n",
      "Import Quantity                              5805     122684        252495   \n",
      "Losses                                       5418     113563        215166   \n",
      "Other uses (non-food)                        2322      49301         92772   \n",
      "Processing                                   1548      32155         61572   \n",
      "Production                                  10965     230006        468435   \n",
      "Protein supply quantity (g/capita/day)       8772     186277         45832   \n",
      "Residuals                                     903      19202         36190   \n",
      "Seed                                         2064      43354         88432   \n",
      "Stock Variation                              4128      87838        162304   \n",
      "Total Population - Both sexes                 129       2501           511   \n",
      "\n",
      "                                           Y2014     Y2015     Y2016  \\\n",
      "Element                                                                \n",
      "Domestic supply quantity                31578.76  31214.98  31731.08   \n",
      "Export Quantity                           403.48    475.75    519.06   \n",
      "Fat supply quantity (g/capita/day)         88.66     91.82     95.31   \n",
      "Feed                                     2175.76   2068.22   2119.40   \n",
      "Food                                    21403.42  21119.65  21433.61   \n",
      "Food supply (kcal/capita/day)            7943.00   7684.00   7668.00   \n",
      "Food supply quantity (kg/capita/yr)       907.50    871.54    861.13   \n",
      "Import Quantity                          2008.68   1720.80   1900.46   \n",
      "Losses                                   2252.00   2176.00   2215.00   \n",
      "Other uses (non-food)                    4346.58   3957.12   4112.08   \n",
      "Processing                               1262.00   1803.00   1770.00   \n",
      "Production                              30337.51  29482.89  29889.65   \n",
      "Protein supply quantity (g/capita/day)    177.75    173.01    173.40   \n",
      "Residuals                                -603.00   -616.00   -642.00   \n",
      "Seed                                      728.00    699.00    720.00   \n",
      "Stock Variation                           373.00   -496.00   -458.00   \n",
      "Total Population - Both sexes           23590.00  24234.00  24894.00   \n",
      "\n",
      "                                           Y2017     Y2018  \n",
      "Element                                                     \n",
      "Domestic supply quantity                31927.87  32596.87  \n",
      "Export Quantity                           561.81    535.81  \n",
      "Fat supply quantity (g/capita/day)        101.03     96.43  \n",
      "Feed                                     2057.60   2133.60  \n",
      "Food                                    21676.21  22116.21  \n",
      "Food supply (kcal/capita/day)            7767.00   7748.00  \n",
      "Food supply quantity (kg/capita/yr)       847.75    842.17  \n",
      "Import Quantity                          3138.79   3214.79  \n",
      "Losses                                   2153.00   2253.00  \n",
      "Other uses (non-food)                    4170.06   4221.06  \n",
      "Processing                               1826.00   1819.00  \n",
      "Production                              29267.86  30215.86  \n",
      "Protein supply quantity (g/capita/day)    175.75    176.64  \n",
      "Residuals                                -657.00   -676.00  \n",
      "Seed                                      695.00    728.00  \n",
      "Stock Variation                           -76.00    293.00  \n",
      "Total Population - Both sexes           25571.00  26262.00  \n"
     ]
    },
    {
     "name": "stderr",
     "output_type": "stream",
     "text": [
      "/var/folders/px/x_d597jn38d8k_dnzdmc42k00000gn/T/ipykernel_22142/3229740204.py:2: FutureWarning: The default value of numeric_only in DataFrameGroupBy.sum is deprecated. In a future version, numeric_only will default to False. Either specify numeric_only or select only columns which should be valid for the function.\n",
      "  protein_supply_madagascar_2018 = madagascar_2018.groupby('Element').sum()\n"
     ]
    }
   ],
   "source": [
    "madagascar_2018 = df[(df['Area'] == 'Madagascar') & (df['Y2018'])]\n",
    "protein_supply_madagascar_2018 = madagascar_2018.groupby('Element').sum()\n",
    "print(protein_supply_madagascar_2018)"
   ]
  },
  {
   "cell_type": "markdown",
   "id": "655a1b79-90a1-4d40-83f5-ce5a145e0800",
   "metadata": {},
   "source": [
    "### q10"
   ]
  },
  {
   "cell_type": "code",
   "execution_count": 15,
   "id": "4f88f466-506b-4181-a26f-c24936c4f2dc",
   "metadata": {
    "tags": []
   },
   "outputs": [
    {
     "data": {
      "text/plain": [
       "49"
      ]
     },
     "execution_count": 15,
     "metadata": {},
     "output_type": "execute_result"
    }
   ],
   "source": [
    "unique_countries = df['Area'].nunique()\n",
    "unique_countries"
   ]
  },
  {
   "cell_type": "markdown",
   "id": "8241a8f7-b9c8-4b67-880a-b5871e90d971",
   "metadata": {},
   "source": [
    "### QUESTION 13\n"
   ]
  },
  {
   "cell_type": "markdown",
   "id": "11f61931-fdc8-4dac-8648-2b85f5d51491",
   "metadata": {},
   "source": [
    "## QUESTION 17"
   ]
  },
  {
   "cell_type": "code",
   "execution_count": 26,
   "id": "a6be0833-3560-48a9-8d21-978e5a169f49",
   "metadata": {
    "tags": []
   },
   "outputs": [
    {
     "ename": "TypeError",
     "evalue": "'tuple' object does not support item assignment",
     "output_type": "error",
     "traceback": [
      "\u001b[0;31m---------------------------------------------------------------------------\u001b[0m",
      "\u001b[0;31mTypeError\u001b[0m                                 Traceback (most recent call last)",
      "Cell \u001b[0;32mIn[26], line 3\u001b[0m\n\u001b[1;32m      1\u001b[0m my_tuppy \u001b[38;5;241m=\u001b[39m (\u001b[38;5;241m1\u001b[39m,\u001b[38;5;241m2\u001b[39m,\u001b[38;5;241m5\u001b[39m,\u001b[38;5;241m8\u001b[39m)\n\u001b[0;32m----> 3\u001b[0m my_tuppy[\u001b[38;5;241m2\u001b[39m] \u001b[38;5;241m=\u001b[39m \u001b[38;5;241m6\u001b[39m\n",
      "\u001b[0;31mTypeError\u001b[0m: 'tuple' object does not support item assignment"
     ]
    }
   ],
   "source": [
    "my_tuppy = (1,2,5,8)\n",
    "\n",
    "my_tuppy[2] = 6"
   ]
  }
 ],
 "metadata": {
  "kernelspec": {
   "display_name": "Python 3 (ipykernel)",
   "language": "python",
   "name": "python3"
  },
  "language_info": {
   "codemirror_mode": {
    "name": "ipython",
    "version": 3
   },
   "file_extension": ".py",
   "mimetype": "text/x-python",
   "name": "python",
   "nbconvert_exporter": "python",
   "pygments_lexer": "ipython3",
   "version": "3.11.4"
  }
 },
 "nbformat": 4,
 "nbformat_minor": 5
}
